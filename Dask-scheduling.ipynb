{
 "cells": [
  {
   "cell_type": "markdown",
   "metadata": {},
   "source": [
    "za https://docs.dask.org/en/latest/futures.html"
   ]
  },
  {
   "cell_type": "code",
   "execution_count": 3,
   "metadata": {},
   "outputs": [],
   "source": [
    "!rm -rf Manna_*.zarr"
   ]
  },
  {
   "cell_type": "code",
   "execution_count": 4,
   "metadata": {},
   "outputs": [],
   "source": [
    "from dask.distributed import Client\n",
    "\n",
    "client = Client()  # start local workers as processes"
   ]
  },
  {
   "cell_type": "code",
   "execution_count": 5,
   "metadata": {},
   "outputs": [
    {
     "data": {
      "text/plain": [
       "[{'N': 1000, 'filename': 'Manna_10_0.zarr', 'L': 10},\n",
       " {'N': 1000, 'filename': 'Manna_10_1.zarr', 'L': 10},\n",
       " {'N': 1000, 'filename': 'Manna_10_2.zarr', 'L': 10},\n",
       " {'N': 1000, 'filename': 'Manna_10_3.zarr', 'L': 10},\n",
       " {'N': 1000, 'filename': 'Manna_10_4.zarr', 'L': 10},\n",
       " {'N': 1000, 'filename': 'Manna_10_5.zarr', 'L': 10},\n",
       " {'N': 1000, 'filename': 'Manna_10_6.zarr', 'L': 10},\n",
       " {'N': 1000, 'filename': 'Manna_10_7.zarr', 'L': 10},\n",
       " {'N': 1000, 'filename': 'Manna_10_8.zarr', 'L': 10},\n",
       " {'N': 1000, 'filename': 'Manna_10_9.zarr', 'L': 10},\n",
       " {'N': 1000, 'filename': 'Manna_20_0.zarr', 'L': 20},\n",
       " {'N': 1000, 'filename': 'Manna_20_1.zarr', 'L': 20},\n",
       " {'N': 1000, 'filename': 'Manna_20_2.zarr', 'L': 20},\n",
       " {'N': 1000, 'filename': 'Manna_20_3.zarr', 'L': 20},\n",
       " {'N': 1000, 'filename': 'Manna_20_4.zarr', 'L': 20},\n",
       " {'N': 1000, 'filename': 'Manna_20_5.zarr', 'L': 20},\n",
       " {'N': 1000, 'filename': 'Manna_20_6.zarr', 'L': 20},\n",
       " {'N': 1000, 'filename': 'Manna_20_7.zarr', 'L': 20},\n",
       " {'N': 1000, 'filename': 'Manna_20_8.zarr', 'L': 20},\n",
       " {'N': 1000, 'filename': 'Manna_20_9.zarr', 'L': 20},\n",
       " {'N': 1000, 'filename': 'Manna_50_0.zarr', 'L': 50},\n",
       " {'N': 1000, 'filename': 'Manna_50_1.zarr', 'L': 50},\n",
       " {'N': 1000, 'filename': 'Manna_50_2.zarr', 'L': 50},\n",
       " {'N': 1000, 'filename': 'Manna_50_3.zarr', 'L': 50},\n",
       " {'N': 1000, 'filename': 'Manna_50_4.zarr', 'L': 50},\n",
       " {'N': 1000, 'filename': 'Manna_50_5.zarr', 'L': 50},\n",
       " {'N': 1000, 'filename': 'Manna_50_6.zarr', 'L': 50},\n",
       " {'N': 1000, 'filename': 'Manna_50_7.zarr', 'L': 50},\n",
       " {'N': 1000, 'filename': 'Manna_50_8.zarr', 'L': 50},\n",
       " {'N': 1000, 'filename': 'Manna_50_9.zarr', 'L': 50},\n",
       " {'N': 1000, 'filename': 'Manna_100_0.zarr', 'L': 100},\n",
       " {'N': 1000, 'filename': 'Manna_100_1.zarr', 'L': 100},\n",
       " {'N': 1000, 'filename': 'Manna_100_2.zarr', 'L': 100},\n",
       " {'N': 1000, 'filename': 'Manna_100_3.zarr', 'L': 100},\n",
       " {'N': 1000, 'filename': 'Manna_100_4.zarr', 'L': 100},\n",
       " {'N': 1000, 'filename': 'Manna_100_5.zarr', 'L': 100},\n",
       " {'N': 1000, 'filename': 'Manna_100_6.zarr', 'L': 100},\n",
       " {'N': 1000, 'filename': 'Manna_100_7.zarr', 'L': 100},\n",
       " {'N': 1000, 'filename': 'Manna_100_8.zarr', 'L': 100},\n",
       " {'N': 1000, 'filename': 'Manna_100_9.zarr', 'L': 100}]"
      ]
     },
     "execution_count": 5,
     "metadata": {},
     "output_type": "execute_result"
    }
   ],
   "source": [
    "L = [10, 20, 50, 100]\n",
    "N = int(1e3)\n",
    "jobs = []\n",
    "for l in L:\n",
    "    for i in range(10):\n",
    "        filename=f\"Manna_{l}_{i}.zarr\"\n",
    "        jobs.append(dict(N=int(N), filename=filename, L=int(l)))\n",
    "jobs"
   ]
  },
  {
   "cell_type": "code",
   "execution_count": 6,
   "metadata": {},
   "outputs": [
    {
     "data": {
      "application/vnd.jupyter.widget-view+json": {
       "model_id": "52d0742c6c304860b6bfc207b03f5147",
       "version_major": 2,
       "version_minor": 0
      },
      "text/plain": [
       "HBox(children=(FloatProgress(value=0.0, max=1000.0), HTML(value='')))"
      ]
     },
     "metadata": {},
     "output_type": "display_data"
    },
    {
     "name": "stdout",
     "output_type": "stream",
     "text": [
      "\n"
     ]
    }
   ],
   "source": [
    "def process(kwargs):\n",
    "    from SOC.models import Manna\n",
    "    N = kwargs['N']\n",
    "    L = kwargs['L']\n",
    "    filename = kwargs['filename']\n",
    "    m = Manna(L)\n",
    "    m.save_every = int(N // 2)\n",
    "    m.run(N, filename)\n",
    "    return m.values[1:-1,1:-1]\n",
    "process(dict(N=N, L=48, filename=filename))\n",
    "!rm -rf Manna_*.zarr"
   ]
  },
  {
   "cell_type": "code",
   "execution_count": 7,
   "metadata": {},
   "outputs": [
    {
     "data": {
      "text/plain": [
       "[<Future: pending, key: process-a0b1fa04173cac9a5477e3db6e69634a>,\n",
       " <Future: pending, key: process-cf6bddc8fc2c50592b6216ee8d878eea>,\n",
       " <Future: pending, key: process-4834b01882c430d481449520aeab4113>,\n",
       " <Future: pending, key: process-eed142ecded3e99a275938a147899c0f>,\n",
       " <Future: pending, key: process-f4474229f6e1c444e01a6cd4d32484e0>,\n",
       " <Future: pending, key: process-368857539b67382a587813ab859dbd7f>,\n",
       " <Future: pending, key: process-0e79ff21c29bda22b017a18c0e623e4f>,\n",
       " <Future: pending, key: process-c04bf7995aa9d7b11d6317eba559eade>,\n",
       " <Future: pending, key: process-73adac0ca9f8c78f2ca5c65dbdc4562d>,\n",
       " <Future: pending, key: process-87f7d8f31c1a802f144fd9753155832f>,\n",
       " <Future: pending, key: process-af0b3e96620e96b9b2fa0d4525b69027>,\n",
       " <Future: pending, key: process-da359ed967c9101c8e47aef4bdb331cf>,\n",
       " <Future: pending, key: process-ebedf70885a3ab8ed08c1ed71924fe86>,\n",
       " <Future: pending, key: process-538af4d35dbd133bf0b2ecf7facd2419>,\n",
       " <Future: pending, key: process-aac74db09ca3259df6bef715422de099>,\n",
       " <Future: pending, key: process-1abc846362bfb1096d8426b9dca67d87>,\n",
       " <Future: pending, key: process-d0b127d4a562380a85af0c46fceeb3d9>,\n",
       " <Future: pending, key: process-42d2058e5716a0787deee1b6dd42e831>,\n",
       " <Future: pending, key: process-8734a2d9a267db1a2b43efd6193a350a>,\n",
       " <Future: pending, key: process-cdafe3b0c3d419ab21ef52f697629e55>,\n",
       " <Future: pending, key: process-a0546d2412baf2f29778602ff61e49be>,\n",
       " <Future: pending, key: process-2b439521e6239b8622aabc536e65eb2e>,\n",
       " <Future: pending, key: process-8f6fed1f1b640a95cedc37949f43980b>,\n",
       " <Future: pending, key: process-b5866794728fa8a89bd4b6c7c83cec9d>,\n",
       " <Future: pending, key: process-3f5fda5ccda38f3f1519ea9270869e3f>,\n",
       " <Future: pending, key: process-6b82ddf0aa46ed438a6e664a1a497179>,\n",
       " <Future: pending, key: process-bb1c6cf8ad24d2099c1bfd8370cd83f3>,\n",
       " <Future: pending, key: process-442bcb0fed314863129d2cf21eace8e6>,\n",
       " <Future: pending, key: process-31f282bcaa3a1c825d359ac5cdfa80a9>,\n",
       " <Future: pending, key: process-e117d8c772b93700b0b66fb27f4b7101>,\n",
       " <Future: pending, key: process-dba61bb2a10a7dde02932174b8888cfa>,\n",
       " <Future: pending, key: process-603ff362698563bc2bf307c2756a4594>,\n",
       " <Future: pending, key: process-f901b87d346168553b709024cafa30e6>,\n",
       " <Future: pending, key: process-595981330e89f943a20eeac42ffa5135>,\n",
       " <Future: pending, key: process-d5563fa50d97ec74be663449f6f7a96c>,\n",
       " <Future: pending, key: process-510752354918bef75f9c3bfb2b86be85>,\n",
       " <Future: pending, key: process-d05b18d678fcc8333ae93a745ebb3ba4>,\n",
       " <Future: pending, key: process-75323e011c85501ae799cde5ffc1cd66>,\n",
       " <Future: pending, key: process-dc2e8398cc3cd9db76866da26fd8e4cc>,\n",
       " <Future: pending, key: process-0cf10bb0007c5fdc7a893a2d2e51583c>]"
      ]
     },
     "execution_count": 7,
     "metadata": {},
     "output_type": "execute_result"
    }
   ],
   "source": [
    "futures =  client.map(process, jobs)\n",
    "futures"
   ]
  },
  {
   "cell_type": "code",
   "execution_count": 10,
   "metadata": {},
   "outputs": [
    {
     "data": {
      "text/plain": [
       "array([[0, 0, 0, 0, 1, 0, 0, 0, 0, 1],\n",
       "       [1, 0, 1, 1, 0, 1, 1, 1, 1, 1],\n",
       "       [1, 1, 1, 1, 1, 1, 1, 1, 0, 0],\n",
       "       [1, 1, 1, 0, 0, 1, 1, 0, 0, 0],\n",
       "       [1, 1, 0, 1, 0, 1, 1, 0, 0, 1],\n",
       "       [1, 1, 1, 1, 1, 0, 1, 1, 0, 1],\n",
       "       [0, 1, 1, 1, 1, 1, 1, 1, 1, 1],\n",
       "       [0, 1, 1, 1, 0, 0, 1, 1, 0, 1],\n",
       "       [0, 1, 0, 1, 1, 1, 0, 1, 0, 0],\n",
       "       [1, 1, 0, 1, 1, 0, 1, 0, 0, 1]])"
      ]
     },
     "execution_count": 10,
     "metadata": {},
     "output_type": "execute_result"
    }
   ],
   "source": [
    "futures[0].result()"
   ]
  },
  {
   "cell_type": "code",
   "execution_count": 11,
   "metadata": {},
   "outputs": [
    {
     "data": {
      "text/plain": [
       "[<Future: finished, type: numpy.ndarray, key: process-a0b1fa04173cac9a5477e3db6e69634a>,\n",
       " <Future: finished, type: numpy.ndarray, key: process-cf6bddc8fc2c50592b6216ee8d878eea>,\n",
       " <Future: finished, type: numpy.ndarray, key: process-4834b01882c430d481449520aeab4113>,\n",
       " <Future: finished, type: numpy.ndarray, key: process-eed142ecded3e99a275938a147899c0f>,\n",
       " <Future: finished, type: numpy.ndarray, key: process-f4474229f6e1c444e01a6cd4d32484e0>,\n",
       " <Future: finished, type: numpy.ndarray, key: process-368857539b67382a587813ab859dbd7f>,\n",
       " <Future: finished, type: numpy.ndarray, key: process-0e79ff21c29bda22b017a18c0e623e4f>,\n",
       " <Future: finished, type: numpy.ndarray, key: process-c04bf7995aa9d7b11d6317eba559eade>,\n",
       " <Future: finished, type: numpy.ndarray, key: process-73adac0ca9f8c78f2ca5c65dbdc4562d>,\n",
       " <Future: finished, type: numpy.ndarray, key: process-87f7d8f31c1a802f144fd9753155832f>,\n",
       " <Future: finished, type: numpy.ndarray, key: process-af0b3e96620e96b9b2fa0d4525b69027>,\n",
       " <Future: finished, type: numpy.ndarray, key: process-da359ed967c9101c8e47aef4bdb331cf>,\n",
       " <Future: finished, type: numpy.ndarray, key: process-ebedf70885a3ab8ed08c1ed71924fe86>,\n",
       " <Future: finished, type: numpy.ndarray, key: process-538af4d35dbd133bf0b2ecf7facd2419>,\n",
       " <Future: finished, type: numpy.ndarray, key: process-aac74db09ca3259df6bef715422de099>,\n",
       " <Future: finished, type: numpy.ndarray, key: process-1abc846362bfb1096d8426b9dca67d87>,\n",
       " <Future: finished, type: numpy.ndarray, key: process-d0b127d4a562380a85af0c46fceeb3d9>,\n",
       " <Future: finished, type: numpy.ndarray, key: process-42d2058e5716a0787deee1b6dd42e831>,\n",
       " <Future: finished, type: numpy.ndarray, key: process-8734a2d9a267db1a2b43efd6193a350a>,\n",
       " <Future: finished, type: numpy.ndarray, key: process-cdafe3b0c3d419ab21ef52f697629e55>,\n",
       " <Future: finished, type: numpy.ndarray, key: process-a0546d2412baf2f29778602ff61e49be>,\n",
       " <Future: finished, type: numpy.ndarray, key: process-2b439521e6239b8622aabc536e65eb2e>,\n",
       " <Future: finished, type: numpy.ndarray, key: process-8f6fed1f1b640a95cedc37949f43980b>,\n",
       " <Future: finished, type: numpy.ndarray, key: process-b5866794728fa8a89bd4b6c7c83cec9d>,\n",
       " <Future: finished, type: numpy.ndarray, key: process-3f5fda5ccda38f3f1519ea9270869e3f>,\n",
       " <Future: finished, type: numpy.ndarray, key: process-6b82ddf0aa46ed438a6e664a1a497179>,\n",
       " <Future: finished, type: numpy.ndarray, key: process-bb1c6cf8ad24d2099c1bfd8370cd83f3>,\n",
       " <Future: finished, type: numpy.ndarray, key: process-442bcb0fed314863129d2cf21eace8e6>,\n",
       " <Future: finished, type: numpy.ndarray, key: process-31f282bcaa3a1c825d359ac5cdfa80a9>,\n",
       " <Future: finished, type: numpy.ndarray, key: process-e117d8c772b93700b0b66fb27f4b7101>,\n",
       " <Future: finished, type: numpy.ndarray, key: process-dba61bb2a10a7dde02932174b8888cfa>,\n",
       " <Future: finished, type: numpy.ndarray, key: process-603ff362698563bc2bf307c2756a4594>,\n",
       " <Future: finished, type: numpy.ndarray, key: process-f901b87d346168553b709024cafa30e6>,\n",
       " <Future: finished, type: numpy.ndarray, key: process-595981330e89f943a20eeac42ffa5135>,\n",
       " <Future: finished, type: numpy.ndarray, key: process-d5563fa50d97ec74be663449f6f7a96c>,\n",
       " <Future: finished, type: numpy.ndarray, key: process-510752354918bef75f9c3bfb2b86be85>,\n",
       " <Future: finished, type: numpy.ndarray, key: process-d05b18d678fcc8333ae93a745ebb3ba4>,\n",
       " <Future: finished, type: numpy.ndarray, key: process-75323e011c85501ae799cde5ffc1cd66>,\n",
       " <Future: finished, type: numpy.ndarray, key: process-dc2e8398cc3cd9db76866da26fd8e4cc>,\n",
       " <Future: finished, type: numpy.ndarray, key: process-0cf10bb0007c5fdc7a893a2d2e51583c>]"
      ]
     },
     "execution_count": 11,
     "metadata": {},
     "output_type": "execute_result"
    }
   ],
   "source": [
    "futures"
   ]
  },
  {
   "cell_type": "code",
   "execution_count": 12,
   "metadata": {},
   "outputs": [
    {
     "data": {
      "image/png": "[encoded data removed]",
      "text/plain": [
       "<Figure size 432x288 with 1 Axes>"
      ]
     },
     "metadata": {
      "needs_background": "light"
     },
     "output_type": "display_data"
    },
    {
     "data": {
      "image/png": "[encoded data removed]",
      "text/plain": [
       "<Figure size 432x288 with 1 Axes>"
      ]
     },
     "metadata": {
      "needs_background": "light"
     },
     "output_type": "display_data"
    },
    {
     "data": {
      "image/png": "[encoded data removed]",
      "text/plain": [
       "<Figure size 432x288 with 1 Axes>"
      ]
     },
     "metadata": {
      "needs_background": "light"
     },
     "output_type": "display_data"
    },
    {
     "data": {
      "image/png": "[encoded data removed]",
      "text/plain": [
       "<Figure size 432x288 with 1 Axes>"
      ]
     },
     "metadata": {
      "needs_background": "light"
     },
     "output_type": "display_data"
    },
    {
     "data": {
      "image/png": "[encoded data removed]",
      "text/plain": [
       "<Figure size 432x288 with 1 Axes>"
      ]
     },
     "metadata": {
      "needs_background": "light"
     },
     "output_type": "display_data"
    },
    {
     "data": {
      "image/png": "[encoded data removed]",
      "text/plain": [
       "<Figure size 432x288 with 1 Axes>"
      ]
     },
     "metadata": {
      "needs_background": "light"
     },
     "output_type": "display_data"
    },
    {
     "data": {
      "image/png": "[encoded data removed]",
      "text/plain": [
       "<Figure size 432x288 with 1 Axes>"
      ]
     },
     "metadata": {
      "needs_background": "light"
     },
     "output_type": "display_data"
    },
    {
     "data": {
      "image/png": "[encoded data removed]",
      "text/plain": [
       "<Figure size 432x288 with 1 Axes>"
      ]
     },
     "metadata": {
      "needs_background": "light"
     },
     "output_type": "display_data"
    },
    {
     "data": {
      "image/png": "[encoded data removed]",
      "text/plain": [
       "<Figure size 432x288 with 1 Axes>"
      ]
     },
     "metadata": {
      "needs_background": "light"
     },
     "output_type": "display_data"
    },
    {
     "data": {
      "image/png": "[encoded data removed]",
      "text/plain": [
       "<Figure size 432x288 with 1 Axes>"
      ]
     },
     "metadata": {
      "needs_background": "light"
     },
     "output_type": "display_data"
    }
   ],
   "source": [
    "for f in futures[:5]:\n",
    "    plt.figure()\n",
    "    plt.imshow(f.result())\n",
    "for f in futures[-5:]:\n",
    "    plt.figure()\n",
    "    plt.imshow(f.result())"
   ]
  }
 ],
 "metadata": {
  "kernelspec": {
   "display_name": "Python 3",
   "language": "python",
   "name": "python3"
  },
  "language_info": {
   "codemirror_mode": {
    "name": "ipython",
    "version": 3
   },
   "file_extension": ".py",
   "mimetype": "text/x-python",
   "name": "python",
   "nbconvert_exporter": "python",
   "pygments_lexer": "ipython3",
   "version": "3.7.4"
  },
  "widgets": {
   "application/vnd.jupyter.widget-state+json": {
    "state": {
     "21aedf0258a44e66964c5f9006dbab5a": {
      "model_module": "@jupyter-widgets/base",
      "model_module_version": "1.2.0",
      "model_name": "LayoutModel",
      "state": {}
     },
     "29efcf159ad24e868c60fcf633a2f04a": {
      "model_module": "@jupyter-widgets/controls",
      "model_module_version": "1.5.0",
      "model_name": "ProgressStyleModel",
      "state": {
       "description_width": "initial"
      }
     },
     "41e15c8708974d7e816ef9bc3fbc529f": {
      "model_module": "@jupyter-widgets/base",
      "model_module_version": "1.2.0",
      "model_name": "LayoutModel",
      "state": {}
     },
     "52d0742c6c304860b6bfc207b03f5147": {
      "model_module": "@jupyter-widgets/controls",
      "model_module_version": "1.5.0",
      "model_name": "HBoxModel",
      "state": {
       "children": [
        "IPY_MODEL_7abe2940181644678531051310ff96b1",
        "IPY_MODEL_9e621d4b68a84df0a2efa59af982d863"
       ],
       "layout": "IPY_MODEL_b4f94bfeaaa54baab43f2da85c8dfb3e"
      }
     },
     "6025e1279d094ae4a564c772bd56f11b": {
      "model_module": "@jupyter-widgets/controls",
      "model_module_version": "1.5.0",
      "model_name": "DescriptionStyleModel",
      "state": {
       "description_width": ""
      }
     },
     "7abe2940181644678531051310ff96b1": {
      "model_module": "@jupyter-widgets/controls",
      "model_module_version": "1.5.0",
      "model_name": "FloatProgressModel",
      "state": {
       "bar_style": "success",
       "description": "100%",
       "layout": "IPY_MODEL_21aedf0258a44e66964c5f9006dbab5a",
       "max": 1000,
       "style": "IPY_MODEL_29efcf159ad24e868c60fcf633a2f04a",
       "value": 1000
      }
     },
     "9e621d4b68a84df0a2efa59af982d863": {
      "model_module": "@jupyter-widgets/controls",
      "model_module_version": "1.5.0",
      "model_name": "HTMLModel",
      "state": {
       "layout": "IPY_MODEL_41e15c8708974d7e816ef9bc3fbc529f",
       "style": "IPY_MODEL_6025e1279d094ae4a564c772bd56f11b",
       "value": " 1000/1000 [00:14&lt;00:00, 67.68it/s]"
      }
     },
     "b4f94bfeaaa54baab43f2da85c8dfb3e": {
      "model_module": "@jupyter-widgets/base",
      "model_module_version": "1.2.0",
      "model_name": "LayoutModel",
      "state": {}
     }
    },
    "version_major": 2,
    "version_minor": 0
   }
  }
 },
 "nbformat": 4,
 "nbformat_minor": 4
}
