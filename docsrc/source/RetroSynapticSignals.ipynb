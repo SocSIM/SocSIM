{
 "nbformat": 4,
 "nbformat_minor": 2,
 "metadata": {
  "language_info": {
   "name": "python",
   "codemirror_mode": {
    "name": "ipython",
    "version": 3
   },
   "version": "3.7.3-final"
  },
  "orig_nbformat": 2,
  "file_extension": ".py",
  "mimetype": "text/x-python",
  "name": "python",
  "npconvert_exporter": "python",
  "pygments_lexer": "ipython3",
  "version": 3,
  "kernelspec": {
   "name": "python37364bit78964efdeea34cee850521087fa6ad47",
   "display_name": "Python 3.7.3 64-bit"
  }
 },
 "cells": [
  {
   "cell_type": "markdown",
   "execution_count": 2,
   "metadata": {},
   "outputs": [],
   "source": [
    "# Self-organized criticality in retro-synaptic signalling"
   ]
  },
  {
   "cell_type": "markdown",
   "execution_count": 3,
   "metadata": {},
   "outputs": [],
   "source": [
    "## First question: is there any good python library to simulate brain neural networks?"
   ]
  },
  {
   "cell_type": "markdown",
   "execution_count": 4,
   "metadata": {},
   "outputs": [
    {
     "ename": "SyntaxError",
     "evalue": "invalid syntax (<ipython-input-4-5ead33b197fa>, line 1)",
     "output_type": "error",
     "traceback": [
      "\u001b[1;36m  File \u001b[1;32m\"<ipython-input-4-5ead33b197fa>\"\u001b[1;36m, line \u001b[1;32m1\u001b[0m\n\u001b[1;33m    First one answer: __Brian2__\u001b[0m\n\u001b[1;37m            ^\u001b[0m\n\u001b[1;31mSyntaxError\u001b[0m\u001b[1;31m:\u001b[0m invalid syntax\n"
     ]
    }
   ],
   "source": [
    "### First one answer: __Brian2__\n",
    "\n",
    "[link](https://brian2.readthedocs.io/)"
   ]
  },
  {
   "cell_type": "code",
   "execution_count": 5,
   "metadata": {},
   "outputs": [
    {
     "name": "stdout",
     "output_type": "stream",
     "text": "Running tests in C:\\Users\\ofcra\\AppData\\Local\\Programs\\Python\\Python37\\lib\\site-packages\\brian2 for targets numpy, cython (excluding long tests)\nRunning Brian version 2.3 from 'C:\\Users\\ofcra\\AppData\\Local\\Programs\\Python\\Python37\\lib\\site-packages\\brian2'\nTesting codegen-independent code\nResetting to default preferences\n\nRunning doctests\n.........................................                                [100%]\n41 passed in 17.65s\nRunning tests that do not use code generation\n.WARNING    Integrating equations with GSL is still considered experimental [brian2.stateupdaters.GSL]\n...................WARNING    The expression \"i1 / 1\" divides two integer values. In previous versions of Brian, this would have used either an integer (\"flooring\") or a floating point division, depending on the Python version and the code generation target. In the current version, it always uses a floating point division. Explicitly ask for an  integer division (\"//\"), or turn one of the operands into a floating point value (e.g. replace \"1/2\" by \"1.0/2\") to no longer receive this warning. [brian2.parsing.bast.floating_point_division]\n.................................................... [ 22%]\n........................................................................ [ 45%]\n.....WARNING    The expression \"(i + 1) / N\" divides two integer values. In previous versions of Brian, this would have used either an integer (\"flooring\") or a floating point division, depending on the Python version and the code generation target. In the current version, it always uses a floating point division. Explicitly ask for an  integer division (\"//\"), or turn one of the operands into a floating point value (e.g. replace \"1/2\" by \"1.0/2\") to no longer receive this warning. [brian2.parsing.bast.floating_point_division]\n................................................................... [ 68%]\n............................WARNING    The 'independent' state updater is deprecated and might be removed in future versions of Brian. [brian2.stateupdaters.exact.deprecated_independent]\n............................................ [ 91%]\n............................                                             [100%]\n316 passed, 294 deselected in 157.44s (0:02:37)\nRunning tests for target numpy:\nWARNING    Integrating equations with GSL is still considered experimental [brian2.stateupdaters.GSL]\nsssssssssssssss.sss...............s..ss.............sssssssssssss....... [ 26%]\n...............................................................s........ [ 53%]\n..............................WARNING    The 'independent' state updater is deprecated and might be removed in future versions of Brian. [brian2.stateupdaters.exact.deprecated_independent]\n.......................................... [ 80%]\n......................................................                   [100%]\n235 passed, 35 skipped, 340 deselected in 281.91s (0:04:41)\nRunning tests for target cython:\nWARNING    Integrating equations with GSL is still considered experimental [brian2.stateupdaters.GSL]\nFFFFF......FFFFFFFF...............s..ss..........s.sssss....sss..s...s.. [ 26%]\n....s...."
    }
   ],
   "source": [
    "import brian2\n",
    "brian2.test()"
   ]
  },
  {
   "cell_type": "markdown",
   "execution_count": 0,
   "metadata": {},
   "outputs": [],
   "source": [
    "### Second one: PyNEST(NEURAL SIMULATION TECHNOLOGY INITIATIVE) \n",
    "[link](https://www.nest-simulator.org)"
   ]
  },
  {
   "cell_type": "code",
   "execution_count": null,
   "metadata": {},
   "outputs": [],
   "source": []
  }
 ]
}